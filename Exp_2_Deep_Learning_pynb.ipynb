{
  "nbformat": 4,
  "nbformat_minor": 0,
  "metadata": {
    "colab": {
      "provenance": [],
      "authorship_tag": "ABX9TyPXd2Q9YK54d2tJUZvxMH1F",
      "include_colab_link": true
    },
    "kernelspec": {
      "name": "python3",
      "display_name": "Python 3"
    },
    "language_info": {
      "name": "python"
    }
  },
  "cells": [
    {
      "cell_type": "markdown",
      "metadata": {
        "id": "view-in-github",
        "colab_type": "text"
      },
      "source": [
        "<a href=\"https://colab.research.google.com/github/Arunsharma2004/deep-learning/blob/main/Exp_2_Deep_Learning_pynb.ipynb\" target=\"_parent\"><img src=\"https://colab.research.google.com/assets/colab-badge.svg\" alt=\"Open In Colab\"/></a>"
      ]
    },
    {
      "cell_type": "code",
      "execution_count": null,
      "metadata": {
        "id": "ZUCbdkyC5A91"
      },
      "outputs": [],
      "source": [
        "import tensorflow as tf\n",
        "\n",
        "from tensorflow.keras.datasets import mnist\n",
        "\n",
        "from tensorflow.keras.utils import to_categorical\n",
        "\n",
        "from tensorflow.keras.models import Sequential\n",
        "\n",
        "from tensorflow.keras.layers import Dense\n",
        "\n",
        "import numpy as np"
      ]
    },
    {
      "cell_type": "markdown",
      "source": [
        "1.DATA PREPERATION"
      ],
      "metadata": {
        "id": "4SFao5L55wT7"
      }
    },
    {
      "cell_type": "code",
      "source": [
        "# Load the dataset\n",
        "\n",
        "(x_train, y_train), (x_test, y_test) = mnist.load_data()"
      ],
      "metadata": {
        "colab": {
          "base_uri": "https://localhost:8080/"
        },
        "id": "TOJhIXbx53PF",
        "outputId": "4ccd557c-79d3-4b8c-b5bd-4078989f847c"
      },
      "execution_count": null,
      "outputs": [
        {
          "output_type": "stream",
          "name": "stdout",
          "text": [
            "Downloading data from https://storage.googleapis.com/tensorflow/tf-keras-datasets/mnist.npz\n",
            "\u001b[1m11490434/11490434\u001b[0m \u001b[32m━━━━━━━━━━━━━━━━━━━━\u001b[0m\u001b[37m\u001b[0m \u001b[1m0s\u001b[0m 0us/step\n"
          ]
        }
      ]
    },
    {
      "cell_type": "code",
      "source": [
        "# Normalize the images to the range [0, 1]\n",
        "\n",
        "x_train = x_train.astype('float32') / 255\n",
        "\n",
        "x_test = x_test.astype('float32') / 255"
      ],
      "metadata": {
        "id": "C4D5BrjO6GbU"
      },
      "execution_count": null,
      "outputs": []
    },
    {
      "cell_type": "code",
      "source": [
        "# Flatten the images to 1D vectors of size 784 (28*28)\n",
        "\n",
        "x_train = x_train.reshape((x_train.shape[0], 28 * 28))\n",
        "\n",
        "x_test = x_test.reshape((x_test.shape[0], 28 * 28))"
      ],
      "metadata": {
        "id": "dGZ5PmBZ6M9j"
      },
      "execution_count": null,
      "outputs": []
    },
    {
      "cell_type": "code",
      "source": [
        "# One-hot encode the labels\n",
        "\n",
        "y_train = to_categorical(y_train)\n",
        "\n",
        "y_test = to_categorical(y_test)"
      ],
      "metadata": {
        "id": "XmYZlqVT6VIB"
      },
      "execution_count": null,
      "outputs": []
    },
    {
      "cell_type": "markdown",
      "source": [
        "2.Model Definition"
      ],
      "metadata": {
        "id": "p2ER1NkL6bwf"
      }
    },
    {
      "cell_type": "code",
      "source": [
        "# Define the model\n",
        "\n",
        "model = Sequential()"
      ],
      "metadata": {
        "id": "r_cieg9A6lyG"
      },
      "execution_count": null,
      "outputs": []
    },
    {
      "cell_type": "code",
      "source": [
        "# Add input layer and first hidden layer with 512 neurons and ReLU activation\n",
        "\n",
        "model.add(Dense(512, activation='relu', input_shape=(28 * 28,)))"
      ],
      "metadata": {
        "colab": {
          "base_uri": "https://localhost:8080/"
        },
        "id": "5z3pm9-l7bad",
        "outputId": "6bea27e0-8481-4dd2-c6a9-028791793f7b"
      },
      "execution_count": null,
      "outputs": [
        {
          "output_type": "stream",
          "name": "stderr",
          "text": [
            "/usr/local/lib/python3.11/dist-packages/keras/src/layers/core/dense.py:87: UserWarning: Do not pass an `input_shape`/`input_dim` argument to a layer. When using Sequential models, prefer using an `Input(shape)` object as the first layer in the model instead.\n",
            "  super().__init__(activity_regularizer=activity_regularizer, **kwargs)\n"
          ]
        }
      ]
    },
    {
      "cell_type": "code",
      "source": [
        "# Add second hidden layer with 512 neurons and ReLU activation\n",
        "\n",
        "model.add(Dense(512, activation='relu'))"
      ],
      "metadata": {
        "id": "O4iRKRaX7gjt"
      },
      "execution_count": null,
      "outputs": []
    },
    {
      "cell_type": "code",
      "source": [
        "# Add third hidden layer with 256 neurons and ReLU activation\n",
        "\n",
        "model.add(Dense(256, activation='relu'))"
      ],
      "metadata": {
        "id": "TxLOGtTq7ywb"
      },
      "execution_count": null,
      "outputs": []
    },
    {
      "cell_type": "code",
      "source": [
        "# Add fourth hidden layer with 128 neurons and ReLU activation\n",
        "\n",
        "model.add(Dense(128, activation='relu'))"
      ],
      "metadata": {
        "id": "Dur39D-p71xk"
      },
      "execution_count": null,
      "outputs": []
    },
    {
      "cell_type": "code",
      "source": [
        "# Add fifth hidden layer with 64 neurons and ReLU activation\n",
        "\n",
        "model.add(Dense(64, activation='relu'))\n",
        "\n"
      ],
      "metadata": {
        "id": "Ip2uX8tn77H5"
      },
      "execution_count": null,
      "outputs": []
    },
    {
      "cell_type": "code",
      "source": [
        "# Add the output layer with 10 neurons (one for each class) and softmax activation\n",
        "\n",
        "model.add(Dense(10, activation='softmax'))\n",
        "\n"
      ],
      "metadata": {
        "id": "KR2A6T5Q7__u"
      },
      "execution_count": null,
      "outputs": []
    },
    {
      "cell_type": "markdown",
      "source": [
        "3.Compilation"
      ],
      "metadata": {
        "id": "b5ADJi4n8poR"
      }
    },
    {
      "cell_type": "code",
      "source": [
        "# Compile the model\n",
        "\n",
        "model.compile(optimizer='adam',\n",
        "\n",
        "              loss='categorical_crossentropy',\n",
        "\n",
        "              metrics=['accuracy'])"
      ],
      "metadata": {
        "id": "TbS2qGIU8rtE"
      },
      "execution_count": null,
      "outputs": []
    },
    {
      "cell_type": "markdown",
      "source": [
        "4.Training"
      ],
      "metadata": {
        "id": "9aa9wXs_8ysI"
      }
    },
    {
      "cell_type": "code",
      "source": [
        "# Train the model\n",
        "\n",
        "model.fit(x_train, y_train, epochs=10, batch_size=128, validation_split=0.2)"
      ],
      "metadata": {
        "colab": {
          "base_uri": "https://localhost:8080/"
        },
        "id": "4aH7cddn8769",
        "outputId": "47afb34c-8a99-401a-f9a2-22f044c543cb"
      },
      "execution_count": null,
      "outputs": [
        {
          "output_type": "stream",
          "name": "stdout",
          "text": [
            "Epoch 1/10\n",
            "\u001b[1m375/375\u001b[0m \u001b[32m━━━━━━━━━━━━━━━━━━━━\u001b[0m\u001b[37m\u001b[0m \u001b[1m13s\u001b[0m 27ms/step - accuracy: 0.8439 - loss: 0.5208 - val_accuracy: 0.9553 - val_loss: 0.1496\n",
            "Epoch 2/10\n",
            "\u001b[1m375/375\u001b[0m \u001b[32m━━━━━━━━━━━━━━━━━━━━\u001b[0m\u001b[37m\u001b[0m \u001b[1m10s\u001b[0m 26ms/step - accuracy: 0.9671 - loss: 0.1049 - val_accuracy: 0.9701 - val_loss: 0.0989\n",
            "Epoch 3/10\n",
            "\u001b[1m375/375\u001b[0m \u001b[32m━━━━━━━━━━━━━━━━━━━━\u001b[0m\u001b[37m\u001b[0m \u001b[1m8s\u001b[0m 22ms/step - accuracy: 0.9810 - loss: 0.0610 - val_accuracy: 0.9697 - val_loss: 0.1037\n",
            "Epoch 4/10\n",
            "\u001b[1m375/375\u001b[0m \u001b[32m━━━━━━━━━━━━━━━━━━━━\u001b[0m\u001b[37m\u001b[0m \u001b[1m11s\u001b[0m 24ms/step - accuracy: 0.9853 - loss: 0.0482 - val_accuracy: 0.9748 - val_loss: 0.0931\n",
            "Epoch 5/10\n",
            "\u001b[1m375/375\u001b[0m \u001b[32m━━━━━━━━━━━━━━━━━━━━\u001b[0m\u001b[37m\u001b[0m \u001b[1m11s\u001b[0m 26ms/step - accuracy: 0.9877 - loss: 0.0388 - val_accuracy: 0.9697 - val_loss: 0.1091\n",
            "Epoch 6/10\n",
            "\u001b[1m375/375\u001b[0m \u001b[32m━━━━━━━━━━━━━━━━━━━━\u001b[0m\u001b[37m\u001b[0m \u001b[1m9s\u001b[0m 25ms/step - accuracy: 0.9905 - loss: 0.0304 - val_accuracy: 0.9728 - val_loss: 0.1061\n",
            "Epoch 7/10\n",
            "\u001b[1m375/375\u001b[0m \u001b[32m━━━━━━━━━━━━━━━━━━━━\u001b[0m\u001b[37m\u001b[0m \u001b[1m9s\u001b[0m 23ms/step - accuracy: 0.9920 - loss: 0.0233 - val_accuracy: 0.9737 - val_loss: 0.1058\n",
            "Epoch 8/10\n",
            "\u001b[1m375/375\u001b[0m \u001b[32m━━━━━━━━━━━━━━━━━━━━\u001b[0m\u001b[37m\u001b[0m \u001b[1m10s\u001b[0m 27ms/step - accuracy: 0.9923 - loss: 0.0242 - val_accuracy: 0.9702 - val_loss: 0.1266\n",
            "Epoch 9/10\n",
            "\u001b[1m375/375\u001b[0m \u001b[32m━━━━━━━━━━━━━━━━━━━━\u001b[0m\u001b[37m\u001b[0m \u001b[1m10s\u001b[0m 25ms/step - accuracy: 0.9911 - loss: 0.0277 - val_accuracy: 0.9760 - val_loss: 0.0992\n",
            "Epoch 10/10\n",
            "\u001b[1m375/375\u001b[0m \u001b[32m━━━━━━━━━━━━━━━━━━━━\u001b[0m\u001b[37m\u001b[0m \u001b[1m8s\u001b[0m 22ms/step - accuracy: 0.9938 - loss: 0.0182 - val_accuracy: 0.9745 - val_loss: 0.1122\n"
          ]
        },
        {
          "output_type": "execute_result",
          "data": {
            "text/plain": [
              "<keras.src.callbacks.history.History at 0x7d7afb490ad0>"
            ]
          },
          "metadata": {},
          "execution_count": 16
        }
      ]
    },
    {
      "cell_type": "markdown",
      "source": [
        "5.Evaluation"
      ],
      "metadata": {
        "id": "XTYPDrL_90vy"
      }
    },
    {
      "cell_type": "code",
      "source": [
        "# Evaluate the model\n",
        "\n",
        "test_loss, test_accuracy = model.evaluate(x_test, y_test)\n",
        "\n",
        "print(f'Test accuracy: {test_accuracy}')"
      ],
      "metadata": {
        "colab": {
          "base_uri": "https://localhost:8080/"
        },
        "id": "TOi5ROsU98ia",
        "outputId": "ea106a5c-ddeb-4f3b-96e1-3c9af1b83ea6"
      },
      "execution_count": null,
      "outputs": [
        {
          "output_type": "stream",
          "name": "stdout",
          "text": [
            "\u001b[1m313/313\u001b[0m \u001b[32m━━━━━━━━━━━━━━━━━━━━\u001b[0m\u001b[37m\u001b[0m \u001b[1m1s\u001b[0m 4ms/step - accuracy: 0.9727 - loss: 0.1125\n",
            "Test accuracy: 0.9769999980926514\n"
          ]
        }
      ]
    },
    {
      "cell_type": "markdown",
      "source": [
        "6.Prediction"
      ],
      "metadata": {
        "id": "p-g1YfKp-b3i"
      }
    },
    {
      "cell_type": "code",
      "source": [
        "# Predict on the test set\n",
        "\n",
        "predictions = model.predict(x_test)"
      ],
      "metadata": {
        "colab": {
          "base_uri": "https://localhost:8080/"
        },
        "id": "CZf3kjuY-dwG",
        "outputId": "e102319e-ee3d-4e49-9242-8f3926634354"
      },
      "execution_count": null,
      "outputs": [
        {
          "output_type": "stream",
          "name": "stdout",
          "text": [
            "\u001b[1m313/313\u001b[0m \u001b[32m━━━━━━━━━━━━━━━━━━━━\u001b[0m\u001b[37m\u001b[0m \u001b[1m2s\u001b[0m 6ms/step\n"
          ]
        }
      ]
    },
    {
      "cell_type": "code",
      "source": [
        "# Example: print the predicted and true labels for the first test image\n",
        "\n",
        "print(f'Predicted label: {np.argmax(predictions[0])}, True label: {np.argmax(y_test[0])}')"
      ],
      "metadata": {
        "colab": {
          "base_uri": "https://localhost:8080/"
        },
        "id": "RjrdQSGW-4Yn",
        "outputId": "5da6ca14-aec5-45a3-ae68-d7f8eddea904"
      },
      "execution_count": null,
      "outputs": [
        {
          "output_type": "stream",
          "name": "stdout",
          "text": [
            "Predicted label: 7, True label: 7\n"
          ]
        }
      ]
    }
  ]
}